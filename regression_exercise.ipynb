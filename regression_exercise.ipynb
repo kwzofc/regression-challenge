{
 "cells": [
  {
   "cell_type": "code",
   "execution_count": 1,
   "id": "802fc2ea",
   "metadata": {},
   "outputs": [],
   "source": [
    "import pandas as pd"
   ]
  },
  {
   "cell_type": "code",
   "execution_count": 2,
   "id": "255a5e0d",
   "metadata": {},
   "outputs": [],
   "source": [
    "import numpy as np"
   ]
  },
  {
   "cell_type": "code",
   "execution_count": 3,
   "id": "db58ee6e",
   "metadata": {},
   "outputs": [],
   "source": [
    "import matplotlib.pyplot as plt"
   ]
  },
  {
   "cell_type": "code",
   "execution_count": 4,
   "id": "a065e61d",
   "metadata": {},
   "outputs": [],
   "source": [
    "import tensorflow as tf\n",
    "from tensorflow import keras\n",
    "from tensorflow.keras.models import Sequential\n",
    "from tensorflow.keras.callbacks import EarlyStopping\n",
    "from tensorflow.keras import layers"
   ]
  },
  {
   "cell_type": "code",
   "execution_count": 5,
   "id": "64e5ccd2",
   "metadata": {},
   "outputs": [],
   "source": [
    "from sklearn.model_selection import train_test_split\n",
    "from sklearn.preprocessing import StandardScaler\n",
    "from sklearn.preprocessing import Normalizer\n",
    "from sklearn.compose import ColumnTransformer\n",
    "from sklearn.metrics import r2_score"
   ]
  },
  {
   "cell_type": "code",
   "execution_count": 6,
   "id": "73dc40fb",
   "metadata": {},
   "outputs": [],
   "source": [
    "dataset = pd.read_csv('admissions_data.csv')"
   ]
  },
  {
   "cell_type": "code",
   "execution_count": 7,
   "id": "a9a73967",
   "metadata": {},
   "outputs": [
    {
     "data": {
      "text/html": [
       "<div>\n",
       "<style scoped>\n",
       "    .dataframe tbody tr th:only-of-type {\n",
       "        vertical-align: middle;\n",
       "    }\n",
       "\n",
       "    .dataframe tbody tr th {\n",
       "        vertical-align: top;\n",
       "    }\n",
       "\n",
       "    .dataframe thead th {\n",
       "        text-align: right;\n",
       "    }\n",
       "</style>\n",
       "<table border=\"1\" class=\"dataframe\">\n",
       "  <thead>\n",
       "    <tr style=\"text-align: right;\">\n",
       "      <th></th>\n",
       "      <th>Serial No.</th>\n",
       "      <th>GRE Score</th>\n",
       "      <th>TOEFL Score</th>\n",
       "      <th>University Rating</th>\n",
       "      <th>SOP</th>\n",
       "      <th>LOR</th>\n",
       "      <th>CGPA</th>\n",
       "      <th>Research</th>\n",
       "      <th>Chance of Admit</th>\n",
       "    </tr>\n",
       "  </thead>\n",
       "  <tbody>\n",
       "    <tr>\n",
       "      <th>0</th>\n",
       "      <td>1</td>\n",
       "      <td>337</td>\n",
       "      <td>118</td>\n",
       "      <td>4</td>\n",
       "      <td>4.5</td>\n",
       "      <td>4.5</td>\n",
       "      <td>9.65</td>\n",
       "      <td>1</td>\n",
       "      <td>0.92</td>\n",
       "    </tr>\n",
       "    <tr>\n",
       "      <th>1</th>\n",
       "      <td>2</td>\n",
       "      <td>324</td>\n",
       "      <td>107</td>\n",
       "      <td>4</td>\n",
       "      <td>4.0</td>\n",
       "      <td>4.5</td>\n",
       "      <td>8.87</td>\n",
       "      <td>1</td>\n",
       "      <td>0.76</td>\n",
       "    </tr>\n",
       "    <tr>\n",
       "      <th>2</th>\n",
       "      <td>3</td>\n",
       "      <td>316</td>\n",
       "      <td>104</td>\n",
       "      <td>3</td>\n",
       "      <td>3.0</td>\n",
       "      <td>3.5</td>\n",
       "      <td>8.00</td>\n",
       "      <td>1</td>\n",
       "      <td>0.72</td>\n",
       "    </tr>\n",
       "    <tr>\n",
       "      <th>3</th>\n",
       "      <td>4</td>\n",
       "      <td>322</td>\n",
       "      <td>110</td>\n",
       "      <td>3</td>\n",
       "      <td>3.5</td>\n",
       "      <td>2.5</td>\n",
       "      <td>8.67</td>\n",
       "      <td>1</td>\n",
       "      <td>0.80</td>\n",
       "    </tr>\n",
       "    <tr>\n",
       "      <th>4</th>\n",
       "      <td>5</td>\n",
       "      <td>314</td>\n",
       "      <td>103</td>\n",
       "      <td>2</td>\n",
       "      <td>2.0</td>\n",
       "      <td>3.0</td>\n",
       "      <td>8.21</td>\n",
       "      <td>0</td>\n",
       "      <td>0.65</td>\n",
       "    </tr>\n",
       "  </tbody>\n",
       "</table>\n",
       "</div>"
      ],
      "text/plain": [
       "   Serial No.  GRE Score  TOEFL Score  University Rating  SOP  LOR   CGPA  \\\n",
       "0           1        337          118                  4  4.5   4.5  9.65   \n",
       "1           2        324          107                  4  4.0   4.5  8.87   \n",
       "2           3        316          104                  3  3.0   3.5  8.00   \n",
       "3           4        322          110                  3  3.5   2.5  8.67   \n",
       "4           5        314          103                  2  2.0   3.0  8.21   \n",
       "\n",
       "   Research  Chance of Admit   \n",
       "0         1              0.92  \n",
       "1         1              0.76  \n",
       "2         1              0.72  \n",
       "3         1              0.80  \n",
       "4         0              0.65  "
      ]
     },
     "execution_count": 7,
     "metadata": {},
     "output_type": "execute_result"
    }
   ],
   "source": [
    "dataset.head()"
   ]
  },
  {
   "cell_type": "code",
   "execution_count": 8,
   "id": "22d1deb5",
   "metadata": {},
   "outputs": [
    {
     "data": {
      "text/html": [
       "<div>\n",
       "<style scoped>\n",
       "    .dataframe tbody tr th:only-of-type {\n",
       "        vertical-align: middle;\n",
       "    }\n",
       "\n",
       "    .dataframe tbody tr th {\n",
       "        vertical-align: top;\n",
       "    }\n",
       "\n",
       "    .dataframe thead th {\n",
       "        text-align: right;\n",
       "    }\n",
       "</style>\n",
       "<table border=\"1\" class=\"dataframe\">\n",
       "  <thead>\n",
       "    <tr style=\"text-align: right;\">\n",
       "      <th></th>\n",
       "      <th>Serial No.</th>\n",
       "      <th>GRE Score</th>\n",
       "      <th>TOEFL Score</th>\n",
       "      <th>University Rating</th>\n",
       "      <th>SOP</th>\n",
       "      <th>LOR</th>\n",
       "      <th>CGPA</th>\n",
       "      <th>Research</th>\n",
       "      <th>Chance of Admit</th>\n",
       "    </tr>\n",
       "  </thead>\n",
       "  <tbody>\n",
       "    <tr>\n",
       "      <th>count</th>\n",
       "      <td>500.000000</td>\n",
       "      <td>500.000000</td>\n",
       "      <td>500.000000</td>\n",
       "      <td>500.000000</td>\n",
       "      <td>500.000000</td>\n",
       "      <td>500.00000</td>\n",
       "      <td>500.000000</td>\n",
       "      <td>500.000000</td>\n",
       "      <td>500.00000</td>\n",
       "    </tr>\n",
       "    <tr>\n",
       "      <th>mean</th>\n",
       "      <td>250.500000</td>\n",
       "      <td>316.472000</td>\n",
       "      <td>107.192000</td>\n",
       "      <td>3.114000</td>\n",
       "      <td>3.374000</td>\n",
       "      <td>3.48400</td>\n",
       "      <td>8.576440</td>\n",
       "      <td>0.560000</td>\n",
       "      <td>0.72174</td>\n",
       "    </tr>\n",
       "    <tr>\n",
       "      <th>std</th>\n",
       "      <td>144.481833</td>\n",
       "      <td>11.295148</td>\n",
       "      <td>6.081868</td>\n",
       "      <td>1.143512</td>\n",
       "      <td>0.991004</td>\n",
       "      <td>0.92545</td>\n",
       "      <td>0.604813</td>\n",
       "      <td>0.496884</td>\n",
       "      <td>0.14114</td>\n",
       "    </tr>\n",
       "    <tr>\n",
       "      <th>min</th>\n",
       "      <td>1.000000</td>\n",
       "      <td>290.000000</td>\n",
       "      <td>92.000000</td>\n",
       "      <td>1.000000</td>\n",
       "      <td>1.000000</td>\n",
       "      <td>1.00000</td>\n",
       "      <td>6.800000</td>\n",
       "      <td>0.000000</td>\n",
       "      <td>0.34000</td>\n",
       "    </tr>\n",
       "    <tr>\n",
       "      <th>25%</th>\n",
       "      <td>125.750000</td>\n",
       "      <td>308.000000</td>\n",
       "      <td>103.000000</td>\n",
       "      <td>2.000000</td>\n",
       "      <td>2.500000</td>\n",
       "      <td>3.00000</td>\n",
       "      <td>8.127500</td>\n",
       "      <td>0.000000</td>\n",
       "      <td>0.63000</td>\n",
       "    </tr>\n",
       "    <tr>\n",
       "      <th>50%</th>\n",
       "      <td>250.500000</td>\n",
       "      <td>317.000000</td>\n",
       "      <td>107.000000</td>\n",
       "      <td>3.000000</td>\n",
       "      <td>3.500000</td>\n",
       "      <td>3.50000</td>\n",
       "      <td>8.560000</td>\n",
       "      <td>1.000000</td>\n",
       "      <td>0.72000</td>\n",
       "    </tr>\n",
       "    <tr>\n",
       "      <th>75%</th>\n",
       "      <td>375.250000</td>\n",
       "      <td>325.000000</td>\n",
       "      <td>112.000000</td>\n",
       "      <td>4.000000</td>\n",
       "      <td>4.000000</td>\n",
       "      <td>4.00000</td>\n",
       "      <td>9.040000</td>\n",
       "      <td>1.000000</td>\n",
       "      <td>0.82000</td>\n",
       "    </tr>\n",
       "    <tr>\n",
       "      <th>max</th>\n",
       "      <td>500.000000</td>\n",
       "      <td>340.000000</td>\n",
       "      <td>120.000000</td>\n",
       "      <td>5.000000</td>\n",
       "      <td>5.000000</td>\n",
       "      <td>5.00000</td>\n",
       "      <td>9.920000</td>\n",
       "      <td>1.000000</td>\n",
       "      <td>0.97000</td>\n",
       "    </tr>\n",
       "  </tbody>\n",
       "</table>\n",
       "</div>"
      ],
      "text/plain": [
       "       Serial No.   GRE Score  TOEFL Score  University Rating         SOP  \\\n",
       "count  500.000000  500.000000   500.000000         500.000000  500.000000   \n",
       "mean   250.500000  316.472000   107.192000           3.114000    3.374000   \n",
       "std    144.481833   11.295148     6.081868           1.143512    0.991004   \n",
       "min      1.000000  290.000000    92.000000           1.000000    1.000000   \n",
       "25%    125.750000  308.000000   103.000000           2.000000    2.500000   \n",
       "50%    250.500000  317.000000   107.000000           3.000000    3.500000   \n",
       "75%    375.250000  325.000000   112.000000           4.000000    4.000000   \n",
       "max    500.000000  340.000000   120.000000           5.000000    5.000000   \n",
       "\n",
       "            LOR         CGPA    Research  Chance of Admit   \n",
       "count  500.00000  500.000000  500.000000         500.00000  \n",
       "mean     3.48400    8.576440    0.560000           0.72174  \n",
       "std      0.92545    0.604813    0.496884           0.14114  \n",
       "min      1.00000    6.800000    0.000000           0.34000  \n",
       "25%      3.00000    8.127500    0.000000           0.63000  \n",
       "50%      3.50000    8.560000    1.000000           0.72000  \n",
       "75%      4.00000    9.040000    1.000000           0.82000  \n",
       "max      5.00000    9.920000    1.000000           0.97000  "
      ]
     },
     "execution_count": 8,
     "metadata": {},
     "output_type": "execute_result"
    }
   ],
   "source": [
    "dataset.describe()"
   ]
  },
  {
   "cell_type": "code",
   "execution_count": 9,
   "id": "c4c14254",
   "metadata": {},
   "outputs": [
    {
     "data": {
      "text/plain": [
       "Serial No.             int64\n",
       "GRE Score              int64\n",
       "TOEFL Score            int64\n",
       "University Rating      int64\n",
       "SOP                  float64\n",
       "LOR                  float64\n",
       "CGPA                 float64\n",
       "Research               int64\n",
       "Chance of Admit      float64\n",
       "dtype: object"
      ]
     },
     "execution_count": 9,
     "metadata": {},
     "output_type": "execute_result"
    }
   ],
   "source": [
    "dataset.dtypes"
   ]
  },
  {
   "cell_type": "code",
   "execution_count": 10,
   "id": "db3dc721",
   "metadata": {},
   "outputs": [],
   "source": [
    "features = dataset.iloc[:, 0:-1]\n",
    "labels = dataset.iloc[:, -1]"
   ]
  },
  {
   "cell_type": "code",
   "execution_count": 11,
   "id": "9526faee",
   "metadata": {},
   "outputs": [],
   "source": [
    "features = pd.get_dummies(features)"
   ]
  },
  {
   "cell_type": "code",
   "execution_count": 12,
   "id": "aee03155",
   "metadata": {},
   "outputs": [],
   "source": [
    "features_train, features_test, labels_train, labels_test = train_test_split(features, labels, test_size=0.3, random_state=50)"
   ]
  },
  {
   "cell_type": "code",
   "execution_count": 13,
   "id": "fe25b825",
   "metadata": {},
   "outputs": [],
   "source": [
    "numeric_features = features.select_dtypes(include=['float64', 'int64'])"
   ]
  },
  {
   "cell_type": "code",
   "execution_count": 14,
   "id": "46842fae",
   "metadata": {},
   "outputs": [],
   "source": [
    "numeric_columns = numeric_features.columns"
   ]
  },
  {
   "cell_type": "code",
   "execution_count": 15,
   "id": "efb82e70",
   "metadata": {},
   "outputs": [],
   "source": [
    "ct = ColumnTransformer([('numeric only', StandardScaler(), numeric_columns)], remainder='passthrough')"
   ]
  },
  {
   "cell_type": "code",
   "execution_count": 16,
   "id": "d35d9ba4",
   "metadata": {},
   "outputs": [],
   "source": [
    "features_train_scaled = ct.fit_transform(features_train)"
   ]
  },
  {
   "cell_type": "code",
   "execution_count": 17,
   "id": "57c1b6fe",
   "metadata": {},
   "outputs": [],
   "source": [
    "features_test_scaled = ct.transform(features_test)"
   ]
  },
  {
   "cell_type": "code",
   "execution_count": 18,
   "id": "bf50b52b",
   "metadata": {},
   "outputs": [],
   "source": [
    "my_model = Sequential()"
   ]
  },
  {
   "cell_type": "code",
   "execution_count": 19,
   "id": "d476c3bd",
   "metadata": {},
   "outputs": [],
   "source": [
    "my_input = layers.InputLayer(input_shape=(features.shape[1], ))"
   ]
  },
  {
   "cell_type": "code",
   "execution_count": 20,
   "id": "546a13df",
   "metadata": {},
   "outputs": [],
   "source": [
    "my_model.add(my_input)"
   ]
  },
  {
   "cell_type": "code",
   "execution_count": 21,
   "id": "7ec87a16",
   "metadata": {},
   "outputs": [],
   "source": [
    "my_model.add(layers.Dense(64, activation='relu'))"
   ]
  },
  {
   "cell_type": "code",
   "execution_count": 22,
   "id": "41d67f41",
   "metadata": {},
   "outputs": [],
   "source": [
    "my_model.add(layers.Dense(1))"
   ]
  },
  {
   "cell_type": "code",
   "execution_count": 23,
   "id": "ee211d09",
   "metadata": {},
   "outputs": [
    {
     "name": "stdout",
     "output_type": "stream",
     "text": [
      "Model: \"sequential\"\n",
      "_________________________________________________________________\n",
      "Layer (type)                 Output Shape              Param #   \n",
      "=================================================================\n",
      "dense (Dense)                (None, 64)                576       \n",
      "_________________________________________________________________\n",
      "dense_1 (Dense)              (None, 1)                 65        \n",
      "=================================================================\n",
      "Total params: 641\n",
      "Trainable params: 641\n",
      "Non-trainable params: 0\n",
      "_________________________________________________________________\n"
     ]
    }
   ],
   "source": [
    "my_model.summary()"
   ]
  },
  {
   "cell_type": "code",
   "execution_count": 24,
   "id": "5444000e",
   "metadata": {},
   "outputs": [],
   "source": [
    "opt = keras.optimizers.Adam(learning_rate=0.001)"
   ]
  },
  {
   "cell_type": "code",
   "execution_count": 25,
   "id": "7c50fc86",
   "metadata": {},
   "outputs": [],
   "source": [
    "my_model.compile(loss='mse', metrics=['mae'], optimizer=opt)"
   ]
  },
  {
   "cell_type": "code",
   "execution_count": 26,
   "id": "1c2c8c6e",
   "metadata": {},
   "outputs": [],
   "source": [
    "stop = EarlyStopping(monitor='val_loss', mode='min', verbose=1, patience=40)"
   ]
  },
  {
   "cell_type": "code",
   "execution_count": 27,
   "id": "4eedce39",
   "metadata": {},
   "outputs": [
    {
     "name": "stdout",
     "output_type": "stream",
     "text": [
      "Epoch 1/40\n",
      "70/70 [==============================] - 0s 3ms/step - loss: 0.3386 - mae: 0.4617 - val_loss: 0.0831 - val_mae: 0.2217\n",
      "Epoch 2/40\n",
      "70/70 [==============================] - 0s 1ms/step - loss: 0.0534 - mae: 0.1814 - val_loss: 0.0440 - val_mae: 0.1621\n",
      "Epoch 3/40\n",
      "70/70 [==============================] - 0s 1ms/step - loss: 0.0313 - mae: 0.1385 - val_loss: 0.0263 - val_mae: 0.1274\n",
      "Epoch 4/40\n",
      "70/70 [==============================] - 0s 1ms/step - loss: 0.0211 - mae: 0.1148 - val_loss: 0.0174 - val_mae: 0.1029\n",
      "Epoch 5/40\n",
      "70/70 [==============================] - 0s 1ms/step - loss: 0.0158 - mae: 0.0989 - val_loss: 0.0143 - val_mae: 0.0935\n",
      "Epoch 6/40\n",
      "70/70 [==============================] - 0s 1ms/step - loss: 0.0123 - mae: 0.0883 - val_loss: 0.0108 - val_mae: 0.0826\n",
      "Epoch 7/40\n",
      "70/70 [==============================] - 0s 1ms/step - loss: 0.0106 - mae: 0.0812 - val_loss: 0.0095 - val_mae: 0.0766\n",
      "Epoch 8/40\n",
      "70/70 [==============================] - 0s 1ms/step - loss: 0.0087 - mae: 0.0739 - val_loss: 0.0101 - val_mae: 0.0812\n",
      "Epoch 9/40\n",
      "70/70 [==============================] - 0s 1ms/step - loss: 0.0082 - mae: 0.0710 - val_loss: 0.0087 - val_mae: 0.0741\n",
      "Epoch 10/40\n",
      "70/70 [==============================] - 0s 1ms/step - loss: 0.0072 - mae: 0.0663 - val_loss: 0.0080 - val_mae: 0.0685\n",
      "Epoch 11/40\n",
      "70/70 [==============================] - 0s 1ms/step - loss: 0.0064 - mae: 0.0625 - val_loss: 0.0071 - val_mae: 0.0638\n",
      "Epoch 12/40\n",
      "70/70 [==============================] - 0s 1ms/step - loss: 0.0062 - mae: 0.0608 - val_loss: 0.0072 - val_mae: 0.0637\n",
      "Epoch 13/40\n",
      "70/70 [==============================] - 0s 1ms/step - loss: 0.0054 - mae: 0.0564 - val_loss: 0.0067 - val_mae: 0.0604\n",
      "Epoch 14/40\n",
      "70/70 [==============================] - 0s 1ms/step - loss: 0.0050 - mae: 0.0546 - val_loss: 0.0074 - val_mae: 0.0673\n",
      "Epoch 15/40\n",
      "70/70 [==============================] - 0s 1ms/step - loss: 0.0051 - mae: 0.0555 - val_loss: 0.0064 - val_mae: 0.0600\n",
      "Epoch 16/40\n",
      "70/70 [==============================] - 0s 1ms/step - loss: 0.0046 - mae: 0.0513 - val_loss: 0.0066 - val_mae: 0.0591\n",
      "Epoch 17/40\n",
      "70/70 [==============================] - 0s 1ms/step - loss: 0.0043 - mae: 0.0506 - val_loss: 0.0066 - val_mae: 0.0600\n",
      "Epoch 18/40\n",
      "70/70 [==============================] - 0s 1ms/step - loss: 0.0040 - mae: 0.0493 - val_loss: 0.0062 - val_mae: 0.0564\n",
      "Epoch 19/40\n",
      "70/70 [==============================] - 0s 1ms/step - loss: 0.0038 - mae: 0.0479 - val_loss: 0.0060 - val_mae: 0.0550\n",
      "Epoch 20/40\n",
      "70/70 [==============================] - 0s 1ms/step - loss: 0.0037 - mae: 0.0466 - val_loss: 0.0062 - val_mae: 0.0571\n",
      "Epoch 21/40\n",
      "70/70 [==============================] - 0s 1ms/step - loss: 0.0036 - mae: 0.0459 - val_loss: 0.0060 - val_mae: 0.0539\n",
      "Epoch 22/40\n",
      "70/70 [==============================] - 0s 1ms/step - loss: 0.0035 - mae: 0.0460 - val_loss: 0.0071 - val_mae: 0.0608\n",
      "Epoch 23/40\n",
      "70/70 [==============================] - 0s 1ms/step - loss: 0.0032 - mae: 0.0446 - val_loss: 0.0069 - val_mae: 0.0607\n",
      "Epoch 24/40\n",
      "70/70 [==============================] - 0s 1ms/step - loss: 0.0031 - mae: 0.0436 - val_loss: 0.0060 - val_mae: 0.0554\n",
      "Epoch 25/40\n",
      "70/70 [==============================] - 0s 1ms/step - loss: 0.0030 - mae: 0.0421 - val_loss: 0.0061 - val_mae: 0.0575\n",
      "Epoch 26/40\n",
      "70/70 [==============================] - 0s 1ms/step - loss: 0.0027 - mae: 0.0405 - val_loss: 0.0065 - val_mae: 0.0592\n",
      "Epoch 27/40\n",
      "70/70 [==============================] - 0s 1ms/step - loss: 0.0027 - mae: 0.0398 - val_loss: 0.0059 - val_mae: 0.0540\n",
      "Epoch 28/40\n",
      "70/70 [==============================] - 0s 1ms/step - loss: 0.0027 - mae: 0.0409 - val_loss: 0.0062 - val_mae: 0.0543\n",
      "Epoch 29/40\n",
      "70/70 [==============================] - 0s 1ms/step - loss: 0.0027 - mae: 0.0403 - val_loss: 0.0072 - val_mae: 0.0600\n",
      "Epoch 30/40\n",
      "70/70 [==============================] - 0s 1ms/step - loss: 0.0024 - mae: 0.0381 - val_loss: 0.0059 - val_mae: 0.0556\n",
      "Epoch 31/40\n",
      "70/70 [==============================] - 0s 1ms/step - loss: 0.0023 - mae: 0.0372 - val_loss: 0.0062 - val_mae: 0.0588\n",
      "Epoch 32/40\n",
      "70/70 [==============================] - 0s 1ms/step - loss: 0.0024 - mae: 0.0378 - val_loss: 0.0065 - val_mae: 0.0600\n",
      "Epoch 33/40\n",
      "70/70 [==============================] - 0s 1ms/step - loss: 0.0022 - mae: 0.0376 - val_loss: 0.0055 - val_mae: 0.0516\n",
      "Epoch 34/40\n",
      "70/70 [==============================] - 0s 1ms/step - loss: 0.0024 - mae: 0.0374 - val_loss: 0.0066 - val_mae: 0.0574\n",
      "Epoch 35/40\n",
      "70/70 [==============================] - 0s 1ms/step - loss: 0.0022 - mae: 0.0360 - val_loss: 0.0071 - val_mae: 0.0646\n",
      "Epoch 36/40\n",
      "70/70 [==============================] - 0s 1ms/step - loss: 0.0025 - mae: 0.0393 - val_loss: 0.0060 - val_mae: 0.0571\n",
      "Epoch 37/40\n",
      "70/70 [==============================] - 0s 1ms/step - loss: 0.0021 - mae: 0.0365 - val_loss: 0.0065 - val_mae: 0.0593\n",
      "Epoch 38/40\n",
      "70/70 [==============================] - 0s 1ms/step - loss: 0.0022 - mae: 0.0368 - val_loss: 0.0067 - val_mae: 0.0636\n",
      "Epoch 39/40\n",
      "70/70 [==============================] - 0s 1ms/step - loss: 0.0021 - mae: 0.0357 - val_loss: 0.0064 - val_mae: 0.0585\n",
      "Epoch 40/40\n",
      "70/70 [==============================] - 0s 1ms/step - loss: 0.0020 - mae: 0.0345 - val_loss: 0.0072 - val_mae: 0.0603\n",
      "RMSE: 0.005484795663505793\n",
      "RMAE: 0.0555303692817688\n"
     ]
    }
   ],
   "source": [
    "history = my_model.fit(\n",
    "    features_train_scaled, \n",
    "    labels_train,\n",
    "    epochs=40,\n",
    "    batch_size=4,\n",
    "    verbose=1,\n",
    "    validation_split=0.2,\n",
    "    callbacks=[stop]\n",
    ")\n",
    "res_mse, res_mae = my_model.evaluate(\n",
    "    features_test_scaled, \n",
    "    labels_test,\n",
    "    verbose=0\n",
    ")\n",
    "print(f'RMSE: {res_mse}\\nRMAE: {res_mae}')"
   ]
  },
  {
   "cell_type": "code",
   "execution_count": 28,
   "id": "27cd0bfc",
   "metadata": {},
   "outputs": [
    {
     "data": {
      "image/png": "[encoded data removed]",
      "text/plain": [
       "<Figure size 432x288 with 1 Axes>"
      ]
     },
     "metadata": {
      "needs_background": "light"
     },
     "output_type": "display_data"
    }
   ],
   "source": [
    "plt.plot(history.history['mae'])\n",
    "plt.plot(history.history['val_mae'])\n",
    "plt.title('mode mae')\n",
    "plt.ylabel('MAE')\n",
    "plt.xlabel('epoch')\n",
    "plt.legend(['train', 'validation'], loc='upper left')\n",
    "plt.show()"
   ]
  },
  {
   "cell_type": "code",
   "execution_count": 29,
   "id": "f6d71117",
   "metadata": {},
   "outputs": [
    {
     "data": {
      "image/png": "[encoded data removed]",
      "text/plain": [
       "<Figure size 432x288 with 1 Axes>"
      ]
     },
     "metadata": {
      "needs_background": "light"
     },
     "output_type": "display_data"
    }
   ],
   "source": [
    "# plot loss and val_loss over each epoch\n",
    "plt.plot(history.history['loss'])\n",
    "plt.plot(history.history['val_loss'])\n",
    "plt.title('model loss')\n",
    "plt.ylabel('loss')\n",
    "plt.xlabel('epoch')\n",
    "plt.legend(['train', 'validation'], loc='upper left')\n",
    "plt.show()"
   ]
  },
  {
   "cell_type": "code",
   "execution_count": 30,
   "id": "23232765",
   "metadata": {},
   "outputs": [
    {
     "name": "stdout",
     "output_type": "stream",
     "text": [
      "-99920.74952126593\n"
     ]
    }
   ],
   "source": [
    "predicted_values = my_model.predict(features_test)\n",
    "print(r2_score(labels_test, predicted_values))"
   ]
  },
  {
   "cell_type": "code",
   "execution_count": null,
   "id": "a693f4e2",
   "metadata": {},
   "outputs": [],
   "source": []
  }
 ],
 "metadata": {
  "kernelspec": {
   "display_name": "Python 3 (ipykernel)",
   "language": "python",
   "name": "python3"
  },
  "language_info": {
   "codemirror_mode": {
    "name": "ipython",
    "version": 3
   },
   "file_extension": ".py",
   "mimetype": "text/x-python",
   "name": "python",
   "nbconvert_exporter": "python",
   "pygments_lexer": "ipython3",
   "version": "3.9.6"
  }
 },
 "nbformat": 4,
 "nbformat_minor": 5
}
